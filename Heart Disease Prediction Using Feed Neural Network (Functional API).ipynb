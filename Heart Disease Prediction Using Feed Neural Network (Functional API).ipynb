{
 "cells": [
  {
   "cell_type": "code",
   "execution_count": 1,
   "id": "a73b1e1a",
   "metadata": {},
   "outputs": [],
   "source": [
    "import tensorflow as tf\n",
    "import keras \n",
    "from sklearn.model_selection import train_test_split\n",
    "import matplotlib.pyplot as plt\n",
    "from sklearn.preprocessing import StandardScaler\n",
    "from keras import regularizers\n",
    "import pandas as pd\n",
    "import numpy as np\n",
    "import os\n",
    "import datetime\n",
    "from keras.callbacks import EarlyStopping, TensorBoard"
   ]
  },
  {
   "cell_type": "code",
   "execution_count": 2,
   "id": "fb5ee732",
   "metadata": {},
   "outputs": [
    {
     "data": {
      "text/html": [
       "<div>\n",
       "<style scoped>\n",
       "    .dataframe tbody tr th:only-of-type {\n",
       "        vertical-align: middle;\n",
       "    }\n",
       "\n",
       "    .dataframe tbody tr th {\n",
       "        vertical-align: top;\n",
       "    }\n",
       "\n",
       "    .dataframe thead th {\n",
       "        text-align: right;\n",
       "    }\n",
       "</style>\n",
       "<table border=\"1\" class=\"dataframe\">\n",
       "  <thead>\n",
       "    <tr style=\"text-align: right;\">\n",
       "      <th></th>\n",
       "      <th>cp</th>\n",
       "      <th>trestbps</th>\n",
       "      <th>chol</th>\n",
       "      <th>fbs</th>\n",
       "      <th>restecg</th>\n",
       "      <th>thalach</th>\n",
       "      <th>exang</th>\n",
       "      <th>oldpeak</th>\n",
       "      <th>slope</th>\n",
       "      <th>ca</th>\n",
       "      <th>thal</th>\n",
       "      <th>target</th>\n",
       "    </tr>\n",
       "  </thead>\n",
       "  <tbody>\n",
       "    <tr>\n",
       "      <th>0</th>\n",
       "      <td>0</td>\n",
       "      <td>125</td>\n",
       "      <td>212</td>\n",
       "      <td>0</td>\n",
       "      <td>1</td>\n",
       "      <td>168</td>\n",
       "      <td>0</td>\n",
       "      <td>1.0</td>\n",
       "      <td>2</td>\n",
       "      <td>2</td>\n",
       "      <td>3</td>\n",
       "      <td>0</td>\n",
       "    </tr>\n",
       "    <tr>\n",
       "      <th>1</th>\n",
       "      <td>0</td>\n",
       "      <td>140</td>\n",
       "      <td>203</td>\n",
       "      <td>1</td>\n",
       "      <td>0</td>\n",
       "      <td>155</td>\n",
       "      <td>1</td>\n",
       "      <td>3.1</td>\n",
       "      <td>0</td>\n",
       "      <td>0</td>\n",
       "      <td>3</td>\n",
       "      <td>0</td>\n",
       "    </tr>\n",
       "    <tr>\n",
       "      <th>2</th>\n",
       "      <td>0</td>\n",
       "      <td>145</td>\n",
       "      <td>174</td>\n",
       "      <td>0</td>\n",
       "      <td>1</td>\n",
       "      <td>125</td>\n",
       "      <td>1</td>\n",
       "      <td>2.6</td>\n",
       "      <td>0</td>\n",
       "      <td>0</td>\n",
       "      <td>3</td>\n",
       "      <td>0</td>\n",
       "    </tr>\n",
       "    <tr>\n",
       "      <th>3</th>\n",
       "      <td>0</td>\n",
       "      <td>148</td>\n",
       "      <td>203</td>\n",
       "      <td>0</td>\n",
       "      <td>1</td>\n",
       "      <td>161</td>\n",
       "      <td>0</td>\n",
       "      <td>0.0</td>\n",
       "      <td>2</td>\n",
       "      <td>1</td>\n",
       "      <td>3</td>\n",
       "      <td>0</td>\n",
       "    </tr>\n",
       "    <tr>\n",
       "      <th>4</th>\n",
       "      <td>0</td>\n",
       "      <td>138</td>\n",
       "      <td>294</td>\n",
       "      <td>1</td>\n",
       "      <td>1</td>\n",
       "      <td>106</td>\n",
       "      <td>0</td>\n",
       "      <td>1.9</td>\n",
       "      <td>1</td>\n",
       "      <td>3</td>\n",
       "      <td>2</td>\n",
       "      <td>0</td>\n",
       "    </tr>\n",
       "    <tr>\n",
       "      <th>5</th>\n",
       "      <td>0</td>\n",
       "      <td>100</td>\n",
       "      <td>248</td>\n",
       "      <td>0</td>\n",
       "      <td>0</td>\n",
       "      <td>122</td>\n",
       "      <td>0</td>\n",
       "      <td>1.0</td>\n",
       "      <td>1</td>\n",
       "      <td>0</td>\n",
       "      <td>2</td>\n",
       "      <td>1</td>\n",
       "    </tr>\n",
       "    <tr>\n",
       "      <th>6</th>\n",
       "      <td>0</td>\n",
       "      <td>114</td>\n",
       "      <td>318</td>\n",
       "      <td>0</td>\n",
       "      <td>2</td>\n",
       "      <td>140</td>\n",
       "      <td>0</td>\n",
       "      <td>4.4</td>\n",
       "      <td>0</td>\n",
       "      <td>3</td>\n",
       "      <td>1</td>\n",
       "      <td>0</td>\n",
       "    </tr>\n",
       "    <tr>\n",
       "      <th>7</th>\n",
       "      <td>0</td>\n",
       "      <td>160</td>\n",
       "      <td>289</td>\n",
       "      <td>0</td>\n",
       "      <td>0</td>\n",
       "      <td>145</td>\n",
       "      <td>1</td>\n",
       "      <td>0.8</td>\n",
       "      <td>1</td>\n",
       "      <td>1</td>\n",
       "      <td>3</td>\n",
       "      <td>0</td>\n",
       "    </tr>\n",
       "    <tr>\n",
       "      <th>8</th>\n",
       "      <td>0</td>\n",
       "      <td>120</td>\n",
       "      <td>249</td>\n",
       "      <td>0</td>\n",
       "      <td>0</td>\n",
       "      <td>144</td>\n",
       "      <td>0</td>\n",
       "      <td>0.8</td>\n",
       "      <td>2</td>\n",
       "      <td>0</td>\n",
       "      <td>3</td>\n",
       "      <td>0</td>\n",
       "    </tr>\n",
       "    <tr>\n",
       "      <th>9</th>\n",
       "      <td>0</td>\n",
       "      <td>122</td>\n",
       "      <td>286</td>\n",
       "      <td>0</td>\n",
       "      <td>0</td>\n",
       "      <td>116</td>\n",
       "      <td>1</td>\n",
       "      <td>3.2</td>\n",
       "      <td>1</td>\n",
       "      <td>2</td>\n",
       "      <td>2</td>\n",
       "      <td>0</td>\n",
       "    </tr>\n",
       "  </tbody>\n",
       "</table>\n",
       "</div>"
      ],
      "text/plain": [
       "   cp  trestbps  chol  fbs  restecg  thalach  exang  oldpeak  slope  ca  thal  \\\n",
       "0   0       125   212    0        1      168      0      1.0      2   2     3   \n",
       "1   0       140   203    1        0      155      1      3.1      0   0     3   \n",
       "2   0       145   174    0        1      125      1      2.6      0   0     3   \n",
       "3   0       148   203    0        1      161      0      0.0      2   1     3   \n",
       "4   0       138   294    1        1      106      0      1.9      1   3     2   \n",
       "5   0       100   248    0        0      122      0      1.0      1   0     2   \n",
       "6   0       114   318    0        2      140      0      4.4      0   3     1   \n",
       "7   0       160   289    0        0      145      1      0.8      1   1     3   \n",
       "8   0       120   249    0        0      144      0      0.8      2   0     3   \n",
       "9   0       122   286    0        0      116      1      3.2      1   2     2   \n",
       "\n",
       "   target  \n",
       "0       0  \n",
       "1       0  \n",
       "2       0  \n",
       "3       0  \n",
       "4       0  \n",
       "5       1  \n",
       "6       0  \n",
       "7       0  \n",
       "8       0  \n",
       "9       0  "
      ]
     },
     "execution_count": 2,
     "metadata": {},
     "output_type": "execute_result"
    }
   ],
   "source": [
    "filepath = r\"C:\\Users\\User\\Downloads\\Heart Disease Prediction Project\\heart.csv\"\n",
    "\n",
    "heart_disease = pd.read_csv(filepath)\n",
    "heart_disease = heart_disease.drop(['age','sex'], axis = 1)\n",
    "heart_disease.head(10)"
   ]
  },
  {
   "cell_type": "code",
   "execution_count": 3,
   "id": "c901ca0f",
   "metadata": {},
   "outputs": [],
   "source": [
    "heart_disease_features = heart_disease.drop('target',axis=1)\n",
    "heart_disease_label = heart_disease['target']"
   ]
  },
  {
   "cell_type": "code",
   "execution_count": 4,
   "id": "a1ec2666",
   "metadata": {},
   "outputs": [
    {
     "name": "stdout",
     "output_type": "stream",
     "text": [
      "The shape of features: (1025, 11)\n",
      "The shape of label: (1025,)\n"
     ]
    }
   ],
   "source": [
    "print(f\"The shape of features: {heart_disease_features.shape}\")\n",
    "print(f\"The shape of label: {heart_disease_label.shape}\")"
   ]
  },
  {
   "cell_type": "code",
   "execution_count": 5,
   "id": "037274db",
   "metadata": {},
   "outputs": [],
   "source": [
    "numpy_features = heart_disease_features.to_numpy()\n",
    "numpy_label = heart_disease_label.to_numpy()"
   ]
  },
  {
   "cell_type": "code",
   "execution_count": 6,
   "id": "7e97ee7f",
   "metadata": {},
   "outputs": [],
   "source": [
    "numpy_label = numpy_label.reshape(1025,1)"
   ]
  },
  {
   "cell_type": "code",
   "execution_count": 7,
   "id": "318b3ac9",
   "metadata": {},
   "outputs": [
    {
     "name": "stdout",
     "output_type": "stream",
     "text": [
      "The shape of features: (1025, 11)\n",
      "The shape of label: (1025, 1)\n"
     ]
    }
   ],
   "source": [
    "print(f\"The shape of features: {numpy_features.shape}\")\n",
    "print(f\"The shape of label: {numpy_label.shape}\")"
   ]
  },
  {
   "cell_type": "code",
   "execution_count": 8,
   "id": "3794606f",
   "metadata": {},
   "outputs": [],
   "source": [
    "features_train, features_test, label_train, label_test = train_test_split(numpy_features,\n",
    "                                                                         numpy_label,\n",
    "                                                                         test_size = 0.2,\n",
    "                                                                         random_state = 12345)"
   ]
  },
  {
   "cell_type": "code",
   "execution_count": 9,
   "id": "ac52c6cc",
   "metadata": {},
   "outputs": [],
   "source": [
    "standardizer = StandardScaler()\n",
    "features_train = standardizer.fit_transform(features_train)\n",
    "features_test = standardizer.transform(features_test)"
   ]
  },
  {
   "cell_type": "code",
   "execution_count": 10,
   "id": "48eebf69",
   "metadata": {},
   "outputs": [],
   "source": [
    "nIn = features_train.shape[-1]"
   ]
  },
  {
   "cell_type": "code",
   "execution_count": 11,
   "id": "16053613",
   "metadata": {},
   "outputs": [
    {
     "name": "stdout",
     "output_type": "stream",
     "text": [
      "Model: \"model\"\n",
      "_________________________________________________________________\n",
      " Layer (type)                Output Shape              Param #   \n",
      "=================================================================\n",
      " input_1 (InputLayer)        [(None, 11)]              0         \n",
      "                                                                 \n",
      " dense (Dense)               (None, 128)               1536      \n",
      "                                                                 \n",
      " dropout (Dropout)           (None, 128)               0         \n",
      "                                                                 \n",
      " dense_1 (Dense)             (None, 64)                8256      \n",
      "                                                                 \n",
      " dropout_1 (Dropout)         (None, 64)                0         \n",
      "                                                                 \n",
      " dense_2 (Dense)             (None, 32)                2080      \n",
      "                                                                 \n",
      " dropout_2 (Dropout)         (None, 32)                0         \n",
      "                                                                 \n",
      " dense_3 (Dense)             (None, 1)                 33        \n",
      "                                                                 \n",
      "=================================================================\n",
      "Total params: 11,905\n",
      "Trainable params: 11,905\n",
      "Non-trainable params: 0\n",
      "_________________________________________________________________\n"
     ]
    }
   ],
   "source": [
    "# Use functional API\n",
    "inputs = keras.Input(shape=(nIn,))\n",
    "h1 = keras.layers.Dense(128, activation='relu')(inputs)\n",
    "dropout1 = keras.layers.Dropout(0.25)(h1)\n",
    "h2 = keras.layers.Dense(64, activation='relu')(dropout1)\n",
    "dropout2 = keras.layers.Dropout(0.25)(h2)\n",
    "h3 = keras.layers.Dense(32, activation='relu')(dropout2)\n",
    "dropout3 = keras.layers.Dropout(0.5)(h3)\n",
    "out = keras.layers.Dense(1, activation='sigmoid')(dropout3) \n",
    "\n",
    "fnn_model = keras.Model(inputs=inputs, outputs=out)\n",
    "fnn_model.summary()"
   ]
  },
  {
   "cell_type": "code",
   "execution_count": 12,
   "id": "5cd16dfa",
   "metadata": {},
   "outputs": [],
   "source": [
    "adam = keras.optimizers.Adam(learning_rate=0.001)\n",
    "bce = keras.losses.BinaryCrossentropy(from_logits=False)\n",
    "accuracy = keras.metrics.BinaryAccuracy()"
   ]
  },
  {
   "cell_type": "code",
   "execution_count": 13,
   "id": "44bfd7c5",
   "metadata": {},
   "outputs": [],
   "source": [
    "fnn_model.compile(optimizer=adam,loss=bce,metrics=[accuracy])\n",
    "#fnn_model.compile(optimizer=SGD(learning_rate=0.001, momentum=0.9, nesterov=True),loss=bce,metrics=[accuracy])"
   ]
  },
  {
   "cell_type": "code",
   "execution_count": 14,
   "id": "6651b544",
   "metadata": {},
   "outputs": [],
   "source": [
    "base_log_path = r\"C:\\Users\\User\\Downloads\\heart_log\"\n",
    "log_path = os.path.join(base_log_path, datetime.datetime.now().strftime(\"%Y%m%d-%H%M%S\"))\n",
    "es = EarlyStopping(monitor='val_loss',patience=5,verbose=2)\n",
    "tb = TensorBoard(log_dir=log_path)"
   ]
  },
  {
   "cell_type": "code",
   "execution_count": 15,
   "id": "93a3c26f",
   "metadata": {},
   "outputs": [
    {
     "name": "stdout",
     "output_type": "stream",
     "text": [
      "Epoch 1/20\n",
      "26/26 [==============================] - 8s 42ms/step - loss: 0.6395 - binary_accuracy: 0.6354 - val_loss: 0.4954 - val_binary_accuracy: 0.8341\n",
      "Epoch 2/20\n",
      "26/26 [==============================] - 1s 22ms/step - loss: 0.4890 - binary_accuracy: 0.8000 - val_loss: 0.3971 - val_binary_accuracy: 0.8195\n",
      "Epoch 3/20\n",
      "26/26 [==============================] - 1s 26ms/step - loss: 0.4426 - binary_accuracy: 0.8085 - val_loss: 0.3673 - val_binary_accuracy: 0.8390\n",
      "Epoch 4/20\n",
      "26/26 [==============================] - 1s 26ms/step - loss: 0.4089 - binary_accuracy: 0.8268 - val_loss: 0.3522 - val_binary_accuracy: 0.8537\n",
      "Epoch 5/20\n",
      "26/26 [==============================] - 1s 22ms/step - loss: 0.3870 - binary_accuracy: 0.8378 - val_loss: 0.3374 - val_binary_accuracy: 0.8634\n",
      "Epoch 6/20\n",
      "26/26 [==============================] - 1s 23ms/step - loss: 0.3788 - binary_accuracy: 0.8476 - val_loss: 0.3218 - val_binary_accuracy: 0.8829\n",
      "Epoch 7/20\n",
      "26/26 [==============================] - 1s 24ms/step - loss: 0.3661 - binary_accuracy: 0.8585 - val_loss: 0.3200 - val_binary_accuracy: 0.8829\n",
      "Epoch 8/20\n",
      "26/26 [==============================] - 1s 22ms/step - loss: 0.3284 - binary_accuracy: 0.8732 - val_loss: 0.3157 - val_binary_accuracy: 0.8829\n",
      "Epoch 9/20\n",
      "26/26 [==============================] - 1s 26ms/step - loss: 0.3219 - binary_accuracy: 0.8768 - val_loss: 0.3015 - val_binary_accuracy: 0.8780\n",
      "Epoch 10/20\n",
      "26/26 [==============================] - 1s 24ms/step - loss: 0.3345 - binary_accuracy: 0.8659 - val_loss: 0.2954 - val_binary_accuracy: 0.8829\n",
      "Epoch 11/20\n",
      "26/26 [==============================] - 1s 26ms/step - loss: 0.3127 - binary_accuracy: 0.8805 - val_loss: 0.2921 - val_binary_accuracy: 0.8927\n",
      "Epoch 12/20\n",
      "26/26 [==============================] - 1s 27ms/step - loss: 0.2921 - binary_accuracy: 0.8829 - val_loss: 0.2909 - val_binary_accuracy: 0.8780\n",
      "Epoch 13/20\n",
      "26/26 [==============================] - 1s 30ms/step - loss: 0.2984 - binary_accuracy: 0.8805 - val_loss: 0.2878 - val_binary_accuracy: 0.8878\n",
      "Epoch 14/20\n",
      "26/26 [==============================] - 1s 23ms/step - loss: 0.3151 - binary_accuracy: 0.8744 - val_loss: 0.2713 - val_binary_accuracy: 0.8878\n",
      "Epoch 15/20\n",
      "26/26 [==============================] - 1s 25ms/step - loss: 0.3088 - binary_accuracy: 0.8878 - val_loss: 0.2804 - val_binary_accuracy: 0.8732\n",
      "Epoch 16/20\n",
      "26/26 [==============================] - 1s 21ms/step - loss: 0.2721 - binary_accuracy: 0.8927 - val_loss: 0.2732 - val_binary_accuracy: 0.8976\n",
      "Epoch 17/20\n",
      "26/26 [==============================] - 1s 22ms/step - loss: 0.2710 - binary_accuracy: 0.8951 - val_loss: 0.2709 - val_binary_accuracy: 0.8976\n",
      "Epoch 18/20\n",
      "26/26 [==============================] - 1s 22ms/step - loss: 0.2511 - binary_accuracy: 0.8988 - val_loss: 0.2559 - val_binary_accuracy: 0.9024\n",
      "Epoch 19/20\n",
      "26/26 [==============================] - 1s 23ms/step - loss: 0.2498 - binary_accuracy: 0.9037 - val_loss: 0.2595 - val_binary_accuracy: 0.8829\n",
      "Epoch 20/20\n",
      "26/26 [==============================] - 1s 25ms/step - loss: 0.2365 - binary_accuracy: 0.9037 - val_loss: 0.2458 - val_binary_accuracy: 0.8927\n"
     ]
    }
   ],
   "source": [
    "history = fnn_model.fit(features_train, label_train, \n",
    "                        validation_data=(features_test, label_test), \n",
    "                        batch_size=32, epochs=20, callbacks=[es,tb])"
   ]
  },
  {
   "cell_type": "code",
   "execution_count": 16,
   "id": "0d9ed092",
   "metadata": {},
   "outputs": [],
   "source": [
    "training_loss = history.history['loss']\n",
    "training_acc = history.history['binary_accuracy']\n",
    "val_loss = history.history['val_loss']\n",
    "val_acc = history.history['val_binary_accuracy']"
   ]
  },
  {
   "cell_type": "code",
   "execution_count": 17,
   "id": "56617ae3",
   "metadata": {},
   "outputs": [
    {
     "data": {
      "text/plain": [
       "<matplotlib.legend.Legend at 0x247c3dc4ca0>"
      ]
     },
     "execution_count": 17,
     "metadata": {},
     "output_type": "execute_result"
    },
    {
     "data": {
      "image/png": "[encoded data removed]",
      "text/plain": [
       "<Figure size 432x288 with 1 Axes>"
      ]
     },
     "metadata": {
      "needs_background": "light"
     },
     "output_type": "display_data"
    }
   ],
   "source": [
    "epochs = history.epoch\n",
    "fig1, axs1 = plt.subplots()\n",
    "axs1.plot(epochs, training_acc, 'g', label='Training accuracy')\n",
    "axs1.plot(epochs, val_acc, 'b', label='validation accuracy')\n",
    "axs1.set_title('Training and Validation accuracy')\n",
    "axs1.set_xlabel('Epochs')\n",
    "axs1.set_ylabel('Accuracy')\n",
    "axs1.legend()"
   ]
  },
  {
   "cell_type": "code",
   "execution_count": 18,
   "id": "bab03c6e",
   "metadata": {},
   "outputs": [
    {
     "data": {
      "text/plain": [
       "<matplotlib.legend.Legend at 0x247c3e0b520>"
      ]
     },
     "execution_count": 18,
     "metadata": {},
     "output_type": "execute_result"
    },
    {
     "data": {
      "image/png": "[encoded data removed]",
      "text/plain": [
       "<Figure size 432x288 with 1 Axes>"
      ]
     },
     "metadata": {
      "needs_background": "light"
     },
     "output_type": "display_data"
    }
   ],
   "source": [
    "fig2, axs2 = plt.subplots()\n",
    "axs2.plot(epochs, training_loss, 'g', label='Training loss')\n",
    "axs2.plot(epochs, val_loss, 'b', label='validation loss')\n",
    "axs2.set_title('Training and Validation loss')\n",
    "axs2.set_xlabel('Epochs')\n",
    "axs2.set_ylabel('Loss')\n",
    "axs2.legend()"
   ]
  }
 ],
 "metadata": {
  "kernelspec": {
   "display_name": "Python 3 (ipykernel)",
   "language": "python",
   "name": "python3"
  },
  "language_info": {
   "codemirror_mode": {
    "name": "ipython",
    "version": 3
   },
   "file_extension": ".py",
   "mimetype": "text/x-python",
   "name": "python",
   "nbconvert_exporter": "python",
   "pygments_lexer": "ipython3",
   "version": "3.8.12"
  }
 },
 "nbformat": 4,
 "nbformat_minor": 5
}
